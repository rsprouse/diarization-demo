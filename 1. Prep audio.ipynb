{
 "cells": [
  {
   "cell_type": "markdown",
   "metadata": {},
   "source": [
    "# Prepare audio files for diarization\n",
    "\n",
    "Our source audio files are stereo files that need to be resampled and the left and right channels separated prior to diarization."
   ]
  },
  {
   "cell_type": "code",
   "execution_count": 1,
   "metadata": {},
   "outputs": [],
   "source": [
    "from pathlib import Path\n",
    "import diarize_utils as utils"
   ]
  },
  {
   "cell_type": "markdown",
   "metadata": {},
   "source": [
    "## Define the project\n",
    "\n",
    "The source audio files are stored in a subdirectory named `audio/stereo` in the project root. The left and right channel outputs will be stashed in `left` and `right` subdirectories of `audio`."
   ]
  },
  {
   "cell_type": "code",
   "execution_count": 2,
   "metadata": {},
   "outputs": [],
   "source": [
    "projroot = Path('/global/home/groups/fc_phonlab/spkrcorpus')\n",
    "stereodir = projroot / 'audio' / 'stereo'\n",
    "leftdir = projroot / 'audio' / 'left'\n",
    "rightdir = projroot / 'audio' / 'right'"
   ]
  },
  {
   "cell_type": "markdown",
   "metadata": {},
   "source": [
    "## Mirror the source audio directory\n",
    "\n",
    "We will extract the left and right channels separately and store them in `projroot/audio` in subdirectories named `left` and `right`. As a first step we use `mirror_dir` to re-create the directory structure of `stereo` in `left` and `right`. The output audio files will be placed in these parallel directory structures."
   ]
  },
  {
   "cell_type": "code",
   "execution_count": 3,
   "metadata": {},
   "outputs": [],
   "source": [
    "utils.mirror_dir(stereodir, leftdir)\n",
    "utils.mirror_dir(stereodir, rightdir)"
   ]
  },
  {
   "cell_type": "markdown",
   "metadata": {},
   "source": [
    "## Extract the left channels\n",
    "\n",
    "The output audio will consist of a single channel from an input audio file that has been downsampled to 16000 Hz.\n",
    "\n",
    "We use the `compare_dirs` function finds `stereo` files that do not have a corresponding `left` output file. The `ext1` and `ext2` values ensure that `compare_dirs` only looks for `.wav` files in the corresponding directories."
   ]
  },
  {
   "cell_type": "code",
   "execution_count": 4,
   "metadata": {},
   "outputs": [
    {
     "data": {
      "text/html": [
       "<div>\n",
       "<style scoped>\n",
       "    .dataframe tbody tr th:only-of-type {\n",
       "        vertical-align: middle;\n",
       "    }\n",
       "\n",
       "    .dataframe tbody tr th {\n",
       "        vertical-align: top;\n",
       "    }\n",
       "\n",
       "    .dataframe thead th {\n",
       "        text-align: right;\n",
       "    }\n",
       "</style>\n",
       "<table border=\"1\" class=\"dataframe\">\n",
       "  <thead>\n",
       "    <tr style=\"text-align: right;\">\n",
       "      <th></th>\n",
       "      <th>relpath</th>\n",
       "      <th>fname</th>\n",
       "      <th>barename</th>\n",
       "    </tr>\n",
       "  </thead>\n",
       "  <tbody>\n",
       "    <tr>\n",
       "      <th>0</th>\n",
       "      <td>speaker_1</td>\n",
       "      <td>interview_a.wav</td>\n",
       "      <td>interview_a</td>\n",
       "    </tr>\n",
       "    <tr>\n",
       "      <th>1</th>\n",
       "      <td>speaker_1</td>\n",
       "      <td>interview_b.wav</td>\n",
       "      <td>interview_b</td>\n",
       "    </tr>\n",
       "    <tr>\n",
       "      <th>2</th>\n",
       "      <td>speaker_2</td>\n",
       "      <td>interview_a.wav</td>\n",
       "      <td>interview_a</td>\n",
       "    </tr>\n",
       "    <tr>\n",
       "      <th>3</th>\n",
       "      <td>speaker_2</td>\n",
       "      <td>interview_b.wav</td>\n",
       "      <td>interview_b</td>\n",
       "    </tr>\n",
       "  </tbody>\n",
       "</table>\n",
       "</div>"
      ],
      "text/plain": [
       "     relpath            fname     barename\n",
       "0  speaker_1  interview_a.wav  interview_a\n",
       "1  speaker_1  interview_b.wav  interview_b\n",
       "2  speaker_2  interview_a.wav  interview_a\n",
       "3  speaker_2  interview_b.wav  interview_b"
      ]
     },
     "execution_count": 4,
     "metadata": {},
     "output_type": "execute_result"
    }
   ],
   "source": [
    "todoleft = utils.compare_dirs(\n",
    "    dir1=stereodir, ext1='.wav',\n",
    "    dir2=leftdir, ext2='.wav'\n",
    ")\n",
    "todoleft"
   ]
  },
  {
   "cell_type": "markdown",
   "metadata": {},
   "source": [
    "`todoleft` is a dataframe in which the rows represent input audio files that require processing of the left channel.\n",
    "\n",
    "The `prep_audio` function is used to extract a channel from an input file and downsample the result. The left channel is channel 1 of the input stereo file.\n",
    "\n",
    "We iterate over the rows of `todoleft` and use `prep_audio` to prepare the left channel audio files."
   ]
  },
  {
   "cell_type": "code",
   "execution_count": 10,
   "metadata": {},
   "outputs": [
    {
     "name": "stdout",
     "output_type": "stream",
     "text": [
      "prep_audio: /global/home/groups/fc_phonlab/spkrcorpus/audio/left/speaker_1/interview_a.wav\n",
      "prep_audio: /global/home/groups/fc_phonlab/spkrcorpus/audio/left/speaker_1/interview_b.wav\n",
      "prep_audio: /global/home/groups/fc_phonlab/spkrcorpus/audio/left/speaker_2/interview_a.wav\n",
      "prep_audio: /global/home/groups/fc_phonlab/spkrcorpus/audio/left/speaker_2/interview_b.wav\n"
     ]
    }
   ],
   "source": [
    "verbose = True   # Set to false to suppress progress messages\n",
    "for row in todoleft.itertuples():\n",
    "    infile = stereodir / row.relpath / row.fname\n",
    "    outfile = leftdir / row.relpath / row.fname\n",
    "    if verbose:\n",
    "        print(f'prep_audio: {outfile}')\n",
    "    utils.prep_audio(infile, outfile, '1')"
   ]
  },
  {
   "cell_type": "markdown",
   "metadata": {},
   "source": [
    "If no errors were raised during execution of the preceding cell, you will find the output files in `leftdir`."
   ]
  },
  {
   "cell_type": "markdown",
   "metadata": {},
   "source": [
    "## Extract the right channels\n",
    "\n",
    "The same steps can be repeated for the right channel. `todoright` contains the input filenames for which the right channel needs processing. "
   ]
  },
  {
   "cell_type": "code",
   "execution_count": 7,
   "metadata": {},
   "outputs": [
    {
     "data": {
      "text/html": [
       "<div>\n",
       "<style scoped>\n",
       "    .dataframe tbody tr th:only-of-type {\n",
       "        vertical-align: middle;\n",
       "    }\n",
       "\n",
       "    .dataframe tbody tr th {\n",
       "        vertical-align: top;\n",
       "    }\n",
       "\n",
       "    .dataframe thead th {\n",
       "        text-align: right;\n",
       "    }\n",
       "</style>\n",
       "<table border=\"1\" class=\"dataframe\">\n",
       "  <thead>\n",
       "    <tr style=\"text-align: right;\">\n",
       "      <th></th>\n",
       "      <th>relpath</th>\n",
       "      <th>fname</th>\n",
       "      <th>barename</th>\n",
       "    </tr>\n",
       "  </thead>\n",
       "  <tbody>\n",
       "    <tr>\n",
       "      <th>0</th>\n",
       "      <td>speaker_1</td>\n",
       "      <td>interview_a.wav</td>\n",
       "      <td>interview_a</td>\n",
       "    </tr>\n",
       "    <tr>\n",
       "      <th>1</th>\n",
       "      <td>speaker_1</td>\n",
       "      <td>interview_b.wav</td>\n",
       "      <td>interview_b</td>\n",
       "    </tr>\n",
       "    <tr>\n",
       "      <th>2</th>\n",
       "      <td>speaker_2</td>\n",
       "      <td>interview_a.wav</td>\n",
       "      <td>interview_a</td>\n",
       "    </tr>\n",
       "    <tr>\n",
       "      <th>3</th>\n",
       "      <td>speaker_2</td>\n",
       "      <td>interview_b.wav</td>\n",
       "      <td>interview_b</td>\n",
       "    </tr>\n",
       "  </tbody>\n",
       "</table>\n",
       "</div>"
      ],
      "text/plain": [
       "     relpath            fname     barename\n",
       "0  speaker_1  interview_a.wav  interview_a\n",
       "1  speaker_1  interview_b.wav  interview_b\n",
       "2  speaker_2  interview_a.wav  interview_a\n",
       "3  speaker_2  interview_b.wav  interview_b"
      ]
     },
     "execution_count": 7,
     "metadata": {},
     "output_type": "execute_result"
    }
   ],
   "source": [
    "todoright = utils.compare_dirs(\n",
    "    dir1=stereodir, ext1='.wav',\n",
    "    dir2=rightdir, ext2='.wav'\n",
    ")\n",
    "todoright"
   ]
  },
  {
   "cell_type": "markdown",
   "metadata": {},
   "source": [
    "Iterate over `todoright` and extract the right channel, which is channel 2 of the input file."
   ]
  },
  {
   "cell_type": "code",
   "execution_count": 9,
   "metadata": {},
   "outputs": [
    {
     "name": "stdout",
     "output_type": "stream",
     "text": [
      "prep_audio: /global/home/groups/fc_phonlab/spkrcorpus/audio/right/speaker_1/interview_a.wav\n",
      "prep_audio: /global/home/groups/fc_phonlab/spkrcorpus/audio/right/speaker_1/interview_b.wav\n",
      "prep_audio: /global/home/groups/fc_phonlab/spkrcorpus/audio/right/speaker_2/interview_a.wav\n",
      "prep_audio: /global/home/groups/fc_phonlab/spkrcorpus/audio/right/speaker_2/interview_b.wav\n"
     ]
    }
   ],
   "source": [
    "for row in todoright.itertuples():\n",
    "    infile = stereodir / row.relpath / row.fname\n",
    "    outfile = rightdir / row.relpath / row.fname\n",
    "    if verbose:\n",
    "        print(f'prep_audio: {outfile}')\n",
    "    utils.prep_audio(infile, outfile, '2')"
   ]
  }
 ],
 "metadata": {
  "kernelspec": {
   "display_name": "diarize",
   "language": "python",
   "name": "diarize"
  },
  "language_info": {
   "codemirror_mode": {
    "name": "ipython",
    "version": 3
   },
   "file_extension": ".py",
   "mimetype": "text/x-python",
   "name": "python",
   "nbconvert_exporter": "python",
   "pygments_lexer": "ipython3",
   "version": "3.8.0"
  },
  "varInspector": {
   "cols": {
    "lenName": 16,
    "lenType": 16,
    "lenVar": 40
   },
   "kernels_config": {
    "python": {
     "delete_cmd_postfix": "",
     "delete_cmd_prefix": "del ",
     "library": "var_list.py",
     "varRefreshCmd": "print(var_dic_list())"
    },
    "r": {
     "delete_cmd_postfix": ") ",
     "delete_cmd_prefix": "rm(",
     "library": "var_list.r",
     "varRefreshCmd": "cat(var_dic_list()) "
    }
   },
   "types_to_exclude": [
    "module",
    "function",
    "builtin_function_or_method",
    "instance",
    "_Feature"
   ],
   "window_display": false
  }
 },
 "nbformat": 4,
 "nbformat_minor": 2
}
