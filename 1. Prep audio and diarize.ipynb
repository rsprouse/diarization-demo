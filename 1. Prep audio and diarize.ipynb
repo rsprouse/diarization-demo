{
 "cells": [
  {
   "cell_type": "code",
   "execution_count": 28,
   "metadata": {},
   "outputs": [],
   "source": [
    "%%bash\n",
    "# Cell to run prior to running following cells in notebook during development.\n",
    "# Delete this cell prior to publishing.\n",
    "stereodir=/global/scratch/users/rsprouse/yidcorp/audio/stereo\n",
    "tgtdir=/global/home/groups/fc_phonlab/spkrcorpus\n",
    "dur=45\n",
    "\n",
    "# Clear out existing files.\n",
    "rm -rf ${tgtdir}/audio\n",
    "rm -rf ${tgtdir}/diarized\n",
    "\n",
    "# Speaker 1\n",
    "spkrdir=${tgtdir}/audio/stereo/speaker_1\n",
    "mkdir -p ${spkrdir}\n",
    "for name in 'Moishe_Gorelik_Tape4.wav' 'Moishe_Gorelik_Tape5.wav'; do\n",
    "    sox ${stereodir}/${name} ${spkrdir}/${name} trim 0 ${dur}\n",
    "done\n",
    "\n",
    "# Speaker 2\n",
    "spkrdir=${tgtdir}/audio/stereo/speaker_2\n",
    "mkdir -p ${spkrdir}\n",
    "for name in 'Zhenya_Raykhman_Tape2.wav' 'Zhenya_Raykhman_Tape3.wav'; do\n",
    "    sox ${stereodir}/${name} ${spkrdir}/${name} trim 0 ${dur}\n",
    "done"
   ]
  },
  {
   "cell_type": "markdown",
   "metadata": {},
   "source": [
    "# Prepare audio files for diarization\n",
    "\n",
    "Our source audio files are stereo files that need to be resampled and the left and right channels separated prior to diarization."
   ]
  },
  {
   "cell_type": "code",
   "execution_count": 10,
   "metadata": {},
   "outputs": [],
   "source": [
    "from pathlib import Path\n",
    "import diarize_utils as utils\n",
    "from pyannote.audio import Pipeline"
   ]
  },
  {
   "cell_type": "markdown",
   "metadata": {},
   "source": [
    "## Define the project\n",
    "\n",
    "The source audio files are stored in a subdirectory named `audio/stereo` in the project root. The left and right channel outputs will be stashed in `left` and `right` subdirectories of `audio`."
   ]
  },
  {
   "cell_type": "code",
   "execution_count": 11,
   "metadata": {},
   "outputs": [],
   "source": [
    "projroot = Path('/global/home/groups/fc_phonlab/spkrcorpus')"
   ]
  },
  {
   "cell_type": "code",
   "execution_count": 12,
   "metadata": {},
   "outputs": [],
   "source": [
    "output_type = 'TextGrid' # Desired output type: 'eaf' or 'TextGrid'"
   ]
  },
  {
   "cell_type": "code",
   "execution_count": 13,
   "metadata": {},
   "outputs": [],
   "source": [
    "# Map channel numbers to subdirectory names. Each channel identified in `channelmap`\n",
    "# will be extracted from a source audio file and downsampled, then diarized separately\n",
    "# into 'left' and 'right' subdirectories.\n",
    "channelmap = {\n",
    "    1: 'left',\n",
    "    2: 'right'\n",
    "}\n",
    "# A sample `channelmap` for mono input audio files.\n",
    "#channelmap = {1: 'ds'}"
   ]
  },
  {
   "cell_type": "markdown",
   "metadata": {},
   "source": [
    "TODO: more on auth tokens"
   ]
  },
  {
   "cell_type": "code",
   "execution_count": 14,
   "metadata": {},
   "outputs": [],
   "source": [
    "tokenfile = projroot/'pyannote-auth-token'\n",
    "with open(tokenfile, 'r') as tf:\n",
    "    auth_token = tf.readline().strip()"
   ]
  },
  {
   "cell_type": "markdown",
   "metadata": {},
   "source": [
    "## Extract the channels and downsample audio\n",
    "\n",
    "The output audio will consist of a single channel from an input audio file that has been downsampled to 16000 Hz.\n",
    "\n",
    "We use the `compare_dirs` function finds `stereo` files that do not yet have corresponding `left` and `right` output files. The `ext1` and `ext2` values ensure that `compare_dirs` only looks for `.wav` files in the corresponding directories. `compare_rows` returns a dataframe in which each row contains a file that requires processing.\n",
    "\n",
    "We iterate over the rows of the `todo` dataframe and use `prep_audio` to extract one channel of audio and downsample. The resulting `.wav` file is stored in a `left` or `right` subdirectory."
   ]
  },
  {
   "cell_type": "code",
   "execution_count": 30,
   "metadata": {},
   "outputs": [
    {
     "name": "stdout",
     "output_type": "stream",
     "text": [
      "     relpath                      fname               barename\n",
      "0  speaker_1   Moishe_Gorelik_Tape4.wav   Moishe_Gorelik_Tape4\n",
      "1  speaker_1   Moishe_Gorelik_Tape5.wav   Moishe_Gorelik_Tape5\n",
      "2  speaker_2  Zhenya_Raykhman_Tape2.wav  Zhenya_Raykhman_Tape2\n",
      "3  speaker_2  Zhenya_Raykhman_Tape3.wav  Zhenya_Raykhman_Tape3\n",
      "prep_audio: /global/home/groups/fc_phonlab/spkrcorpus/audio/left/speaker_1/Moishe_Gorelik_Tape4.wav\n",
      "prep_audio: /global/home/groups/fc_phonlab/spkrcorpus/audio/left/speaker_1/Moishe_Gorelik_Tape5.wav\n",
      "prep_audio: /global/home/groups/fc_phonlab/spkrcorpus/audio/left/speaker_2/Zhenya_Raykhman_Tape2.wav\n",
      "prep_audio: /global/home/groups/fc_phonlab/spkrcorpus/audio/left/speaker_2/Zhenya_Raykhman_Tape3.wav\n",
      "     relpath                      fname               barename\n",
      "0  speaker_1   Moishe_Gorelik_Tape4.wav   Moishe_Gorelik_Tape4\n",
      "1  speaker_1   Moishe_Gorelik_Tape5.wav   Moishe_Gorelik_Tape5\n",
      "2  speaker_2  Zhenya_Raykhman_Tape2.wav  Zhenya_Raykhman_Tape2\n",
      "3  speaker_2  Zhenya_Raykhman_Tape3.wav  Zhenya_Raykhman_Tape3\n",
      "prep_audio: /global/home/groups/fc_phonlab/spkrcorpus/audio/right/speaker_1/Moishe_Gorelik_Tape4.wav\n",
      "prep_audio: /global/home/groups/fc_phonlab/spkrcorpus/audio/right/speaker_1/Moishe_Gorelik_Tape5.wav\n",
      "prep_audio: /global/home/groups/fc_phonlab/spkrcorpus/audio/right/speaker_2/Zhenya_Raykhman_Tape2.wav\n",
      "prep_audio: /global/home/groups/fc_phonlab/spkrcorpus/audio/right/speaker_2/Zhenya_Raykhman_Tape3.wav\n"
     ]
    }
   ],
   "source": [
    "verbose = True   # Set to false to suppress progress messages\n",
    "for chan_num, chan_name in channelmap.items():\n",
    "    chandir = projroot/'audio'/chan_name\n",
    "    todo = utils.compare_dirs(\n",
    "        dir1=srcdir, ext1='.wav',\n",
    "        dir2=chandir, ext2='.wav'\n",
    "    )\n",
    "    for row in todo.itertuples():\n",
    "        infile = srcdir/row.relpath/row.fname\n",
    "        outfile = chandir/row.relpath/row.fname\n",
    "        if verbose:\n",
    "            print(f'prep_audio: {outfile}')\n",
    "        utils.prep_audio(infile, outfile, chan_num)"
   ]
  },
  {
   "cell_type": "markdown",
   "metadata": {},
   "source": [
    "## Instantiate the pipeline\n",
    "\n",
    "TODO: more on setting params."
   ]
  },
  {
   "cell_type": "code",
   "execution_count": 31,
   "metadata": {},
   "outputs": [
    {
     "data": {
      "text/plain": [
       "<pyannote.audio.pipelines.speaker_diarization.SpeakerDiarization at 0x2afef1480e20>"
      ]
     },
     "execution_count": 31,
     "metadata": {},
     "output_type": "execute_result"
    }
   ],
   "source": [
    "pipeline = Pipeline.from_pretrained(\n",
    "    \"pyannote/speaker-diarization\",\n",
    "    use_auth_token=auth_token\n",
    ")\n",
    "parameters = {\n",
    "    \"segmentation\": {\n",
    "        \"min_duration_off\": 0.3,\n",
    "    },\n",
    "}\n",
    "\n",
    "pipeline.instantiate(parameters)"
   ]
  },
  {
   "cell_type": "markdown",
   "metadata": {},
   "source": [
    "## Diarize the channels\n",
    "\n",
    "The `compare_dirs` function finds downsampled `.wav` files that do not have a corresponding output file of the type identified by `output_type`. The `ext1` and `ext2` values ensure that `compare_dirs` only looks for `.wav` and `output_type` files in their corresponding directories."
   ]
  },
  {
   "cell_type": "code",
   "execution_count": null,
   "metadata": {},
   "outputs": [
    {
     "name": "stdout",
     "output_type": "stream",
     "text": [
      "diarize: /global/home/groups/fc_phonlab/spkrcorpus/diarized/TextGrid/left/speaker_1/Moishe_Gorelik_Tape4.TextGrid\n"
     ]
    },
    {
     "name": "stderr",
     "output_type": "stream",
     "text": [
      "[W NNPACK.cpp:51] Could not initialize NNPACK! Reason: Unsupported hardware.\n"
     ]
    }
   ],
   "source": [
    "for chan_num, chan_name in channelmap.items():\n",
    "    wavdir = projroot/'audio'/chan_name\n",
    "    outdir = projroot/'diarized'/output_type/chan_name\n",
    "    todo = utils.compare_dirs(\n",
    "        dir1=wavdir, ext1='.wav',\n",
    "        dir2=outdir, ext2=f'.{output_type}'\n",
    "    )\n",
    "    for row in todo.itertuples():\n",
    "        wavfile = wavdir/row.relpath/row.fname\n",
    "        outfile = outdir/row.relpath/f'{row.barename}.{output_type}'\n",
    "        if verbose:\n",
    "            print(f'diarize: {outfile}')\n",
    "        utils.diarize(wavfile, pipeline, chan_num, outfile)"
   ]
  }
 ],
 "metadata": {
  "kernelspec": {
   "display_name": "diarize",
   "language": "python",
   "name": "diarize"
  },
  "language_info": {
   "codemirror_mode": {
    "name": "ipython",
    "version": 3
   },
   "file_extension": ".py",
   "mimetype": "text/x-python",
   "name": "python",
   "nbconvert_exporter": "python",
   "pygments_lexer": "ipython3",
   "version": "3.8.0"
  },
  "varInspector": {
   "cols": {
    "lenName": 16,
    "lenType": 16,
    "lenVar": 40
   },
   "kernels_config": {
    "python": {
     "delete_cmd_postfix": "",
     "delete_cmd_prefix": "del ",
     "library": "var_list.py",
     "varRefreshCmd": "print(var_dic_list())"
    },
    "r": {
     "delete_cmd_postfix": ") ",
     "delete_cmd_prefix": "rm(",
     "library": "var_list.r",
     "varRefreshCmd": "cat(var_dic_list()) "
    }
   },
   "types_to_exclude": [
    "module",
    "function",
    "builtin_function_or_method",
    "instance",
    "_Feature"
   ],
   "window_display": false
  }
 },
 "nbformat": 4,
 "nbformat_minor": 2
}
