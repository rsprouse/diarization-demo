{
 "cells": [
  {
   "cell_type": "markdown",
   "metadata": {},
   "source": [
    "# Diarize single-channel audio files\n",
    "\n",
    "This notebook instantiates a `pyannote-audio` pipeline and diarizes the single-channel left|right audio files. The diarization results are stored in `.rttm` files."
   ]
  },
  {
   "cell_type": "code",
   "execution_count": 20,
   "metadata": {},
   "outputs": [],
   "source": [
    "from pathlib import Path\n",
    "import diarize_utils as utils\n",
    "from pyannote.audio import Pipeline"
   ]
  },
  {
   "cell_type": "markdown",
   "metadata": {},
   "source": [
    "## Define the project\n",
    "\n",
    "The source audio files are stored in a subdirectories named `audio/left` and `audio/right` in the project root. The left and right `.rttm` outputs will be stashed in `left` and `right` subdirectories of `diarized/rttm`."
   ]
  },
  {
   "cell_type": "code",
   "execution_count": 21,
   "metadata": {},
   "outputs": [],
   "source": [
    "projroot = Path('/global/scratch/users/rsprouse/yidcorp/')\n",
    "wavleft = projroot / 'audio' / 'left'\n",
    "wavright = projroot / 'audio' / 'right'\n",
    "rttmleft = projroot / 'diarized' / 'rttm' / 'left'\n",
    "rttmright = projroot / 'diarized' / 'rttm' / 'right'"
   ]
  },
  {
   "cell_type": "markdown",
   "metadata": {},
   "source": [
    "## Mirror the source audio directories\n",
    "\n",
    "The left and right audio channels will be diarized separately and the results stored in subdirectories of `diarized/rttm` named `left` and `right`. As a first step we use `mirror_dir` to re-create the directory structures of `wavleft` and `wavright`. The output `.rttm` files will be placed in these parallel directory structures."
   ]
  },
  {
   "cell_type": "code",
   "execution_count": 22,
   "metadata": {},
   "outputs": [],
   "source": [
    "utils.mirror_dir(wavleft, rttmleft)\n",
    "utils.mirror_dir(wavright, rttmright)"
   ]
  },
  {
   "cell_type": "markdown",
   "metadata": {},
   "source": [
    "## Instantiate the pipeline\n",
    "\n",
    "TODO: more on auth tokens\n",
    "TODO: more on setting params."
   ]
  },
  {
   "cell_type": "code",
   "execution_count": 23,
   "metadata": {},
   "outputs": [],
   "source": [
    "# Store the token as the first line of `tokenfile`. This file should not be\n",
    "# readable by other users on the system and should not be added to a git\n",
    "# repository.\n",
    "tokenfile = '/global/home/users/rsprouse/pyannote-auth-token'\n",
    "with open(tokenfile, 'r') as tf:\n",
    "    auth_token = tf.readline().strip()"
   ]
  },
  {
   "cell_type": "code",
   "execution_count": 24,
   "metadata": {},
   "outputs": [
    {
     "data": {
      "text/plain": [
       "<pyannote.audio.pipelines.speaker_diarization.SpeakerDiarization at 0x2b53734aeb50>"
      ]
     },
     "execution_count": 24,
     "metadata": {},
     "output_type": "execute_result"
    }
   ],
   "source": [
    "pipeline = Pipeline.from_pretrained(\n",
    "    \"pyannote/speaker-diarization\",\n",
    "    use_auth_token=auth_token\n",
    ")\n",
    "parameters = {\n",
    "    \"segmentation\": {\n",
    "        \"min_duration_off\": 0.3,\n",
    "    },\n",
    "}\n",
    "\n",
    "pipeline.instantiate(parameters)"
   ]
  },
  {
   "cell_type": "markdown",
   "metadata": {},
   "source": [
    "## Diarize the left channels\n",
    "\n",
    "The `compare_dirs` function finds `left` `.wav` files that do not have a corresponding output file. The `ext1` and `ext2` values ensure that `compare_dirs` only looks for `.wav` and `.rttm` files in their corresponding directories."
   ]
  },
  {
   "cell_type": "code",
   "execution_count": 25,
   "metadata": {},
   "outputs": [
    {
     "data": {
      "text/html": [
       "<div>\n",
       "<style scoped>\n",
       "    .dataframe tbody tr th:only-of-type {\n",
       "        vertical-align: middle;\n",
       "    }\n",
       "\n",
       "    .dataframe tbody tr th {\n",
       "        vertical-align: top;\n",
       "    }\n",
       "\n",
       "    .dataframe thead th {\n",
       "        text-align: right;\n",
       "    }\n",
       "</style>\n",
       "<table border=\"1\" class=\"dataframe\">\n",
       "  <thead>\n",
       "    <tr style=\"text-align: right;\">\n",
       "      <th></th>\n",
       "      <th>relpath</th>\n",
       "      <th>fname</th>\n",
       "      <th>barename</th>\n",
       "    </tr>\n",
       "  </thead>\n",
       "  <tbody>\n",
       "    <tr>\n",
       "      <th>0</th>\n",
       "      <td>.</td>\n",
       "      <td>Abraham_Slucki_Tape2.wav</td>\n",
       "      <td>Abraham_Slucki_Tape2</td>\n",
       "    </tr>\n",
       "    <tr>\n",
       "      <th>1</th>\n",
       "      <td>.</td>\n",
       "      <td>Adalbert_Fried_Tape1.wav</td>\n",
       "      <td>Adalbert_Fried_Tape1</td>\n",
       "    </tr>\n",
       "    <tr>\n",
       "      <th>2</th>\n",
       "      <td>.</td>\n",
       "      <td>Adalbert_Fried_Tape2.wav</td>\n",
       "      <td>Adalbert_Fried_Tape2</td>\n",
       "    </tr>\n",
       "    <tr>\n",
       "      <th>3</th>\n",
       "      <td>.</td>\n",
       "      <td>Adalbert_Fried_Tape3.wav</td>\n",
       "      <td>Adalbert_Fried_Tape3</td>\n",
       "    </tr>\n",
       "    <tr>\n",
       "      <th>4</th>\n",
       "      <td>.</td>\n",
       "      <td>Aizik_Dimantstein_Tape1.wav</td>\n",
       "      <td>Aizik_Dimantstein_Tape1</td>\n",
       "    </tr>\n",
       "    <tr>\n",
       "      <th>...</th>\n",
       "      <td>...</td>\n",
       "      <td>...</td>\n",
       "      <td>...</td>\n",
       "    </tr>\n",
       "    <tr>\n",
       "      <th>187</th>\n",
       "      <td>.</td>\n",
       "      <td>Wolf_Scheinberg_Tape2.wav</td>\n",
       "      <td>Wolf_Scheinberg_Tape2</td>\n",
       "    </tr>\n",
       "    <tr>\n",
       "      <th>188</th>\n",
       "      <td>.</td>\n",
       "      <td>Yokheved_Ayberman_Tape1.wav</td>\n",
       "      <td>Yokheved_Ayberman_Tape1</td>\n",
       "    </tr>\n",
       "    <tr>\n",
       "      <th>189</th>\n",
       "      <td>.</td>\n",
       "      <td>Yokheved_Ayberman_Tape2.wav</td>\n",
       "      <td>Yokheved_Ayberman_Tape2</td>\n",
       "    </tr>\n",
       "    <tr>\n",
       "      <th>190</th>\n",
       "      <td>.</td>\n",
       "      <td>Zigmund_Neufeld_Tape1.wav</td>\n",
       "      <td>Zigmund_Neufeld_Tape1</td>\n",
       "    </tr>\n",
       "    <tr>\n",
       "      <th>191</th>\n",
       "      <td>.</td>\n",
       "      <td>Zigmund_Neufeld_Tape2.wav</td>\n",
       "      <td>Zigmund_Neufeld_Tape2</td>\n",
       "    </tr>\n",
       "  </tbody>\n",
       "</table>\n",
       "<p>192 rows × 3 columns</p>\n",
       "</div>"
      ],
      "text/plain": [
       "    relpath                        fname                 barename\n",
       "0         .     Abraham_Slucki_Tape2.wav     Abraham_Slucki_Tape2\n",
       "1         .     Adalbert_Fried_Tape1.wav     Adalbert_Fried_Tape1\n",
       "2         .     Adalbert_Fried_Tape2.wav     Adalbert_Fried_Tape2\n",
       "3         .     Adalbert_Fried_Tape3.wav     Adalbert_Fried_Tape3\n",
       "4         .  Aizik_Dimantstein_Tape1.wav  Aizik_Dimantstein_Tape1\n",
       "..      ...                          ...                      ...\n",
       "187       .    Wolf_Scheinberg_Tape2.wav    Wolf_Scheinberg_Tape2\n",
       "188       .  Yokheved_Ayberman_Tape1.wav  Yokheved_Ayberman_Tape1\n",
       "189       .  Yokheved_Ayberman_Tape2.wav  Yokheved_Ayberman_Tape2\n",
       "190       .    Zigmund_Neufeld_Tape1.wav    Zigmund_Neufeld_Tape1\n",
       "191       .    Zigmund_Neufeld_Tape2.wav    Zigmund_Neufeld_Tape2\n",
       "\n",
       "[192 rows x 3 columns]"
      ]
     },
     "execution_count": 25,
     "metadata": {},
     "output_type": "execute_result"
    }
   ],
   "source": [
    "todoleft = utils.compare_dirs(\n",
    "    dir1=wavleft, ext1='.wav',\n",
    "    dir2=rttmleft, ext2='.rttm'\n",
    ")\n",
    "todoleft"
   ]
  },
  {
   "cell_type": "markdown",
   "metadata": {},
   "source": [
    "`todoleft` is a dataframe in which the rows represent input audio files that require processing of the left channel.\n",
    "\n",
    "The `diarize_df` function iterates over the rows of `todoleft` and uses the pipeline to diarize the input audio file and produce an `.rttm`."
   ]
  },
  {
   "cell_type": "code",
   "execution_count": null,
   "metadata": {},
   "outputs": [],
   "source": [
    "utils.diarize_df(todoleft, pipeline, num_spkr, wavleft, rttmleft)"
   ]
  },
  {
   "cell_type": "markdown",
   "metadata": {},
   "source": [
    "## Diarize the right channels"
   ]
  },
  {
   "cell_type": "code",
   "execution_count": 26,
   "metadata": {},
   "outputs": [
    {
     "data": {
      "text/html": [
       "<div>\n",
       "<style scoped>\n",
       "    .dataframe tbody tr th:only-of-type {\n",
       "        vertical-align: middle;\n",
       "    }\n",
       "\n",
       "    .dataframe tbody tr th {\n",
       "        vertical-align: top;\n",
       "    }\n",
       "\n",
       "    .dataframe thead th {\n",
       "        text-align: right;\n",
       "    }\n",
       "</style>\n",
       "<table border=\"1\" class=\"dataframe\">\n",
       "  <thead>\n",
       "    <tr style=\"text-align: right;\">\n",
       "      <th></th>\n",
       "      <th>relpath</th>\n",
       "      <th>fname</th>\n",
       "      <th>barename</th>\n",
       "    </tr>\n",
       "  </thead>\n",
       "  <tbody>\n",
       "    <tr>\n",
       "      <th>0</th>\n",
       "      <td>.</td>\n",
       "      <td>Abraham_Slucki_Tape2.wav</td>\n",
       "      <td>Abraham_Slucki_Tape2</td>\n",
       "    </tr>\n",
       "    <tr>\n",
       "      <th>1</th>\n",
       "      <td>.</td>\n",
       "      <td>Adalbert_Fried_Tape1.wav</td>\n",
       "      <td>Adalbert_Fried_Tape1</td>\n",
       "    </tr>\n",
       "    <tr>\n",
       "      <th>2</th>\n",
       "      <td>.</td>\n",
       "      <td>Adalbert_Fried_Tape2.wav</td>\n",
       "      <td>Adalbert_Fried_Tape2</td>\n",
       "    </tr>\n",
       "    <tr>\n",
       "      <th>3</th>\n",
       "      <td>.</td>\n",
       "      <td>Adalbert_Fried_Tape3.wav</td>\n",
       "      <td>Adalbert_Fried_Tape3</td>\n",
       "    </tr>\n",
       "    <tr>\n",
       "      <th>4</th>\n",
       "      <td>.</td>\n",
       "      <td>Aizik_Dimantstein_Tape1.wav</td>\n",
       "      <td>Aizik_Dimantstein_Tape1</td>\n",
       "    </tr>\n",
       "    <tr>\n",
       "      <th>...</th>\n",
       "      <td>...</td>\n",
       "      <td>...</td>\n",
       "      <td>...</td>\n",
       "    </tr>\n",
       "    <tr>\n",
       "      <th>189</th>\n",
       "      <td>.</td>\n",
       "      <td>Wolf_Scheinberg_Tape2.wav</td>\n",
       "      <td>Wolf_Scheinberg_Tape2</td>\n",
       "    </tr>\n",
       "    <tr>\n",
       "      <th>190</th>\n",
       "      <td>.</td>\n",
       "      <td>Yokheved_Ayberman_Tape1.wav</td>\n",
       "      <td>Yokheved_Ayberman_Tape1</td>\n",
       "    </tr>\n",
       "    <tr>\n",
       "      <th>191</th>\n",
       "      <td>.</td>\n",
       "      <td>Yokheved_Ayberman_Tape2.wav</td>\n",
       "      <td>Yokheved_Ayberman_Tape2</td>\n",
       "    </tr>\n",
       "    <tr>\n",
       "      <th>192</th>\n",
       "      <td>.</td>\n",
       "      <td>Zigmund_Neufeld_Tape1.wav</td>\n",
       "      <td>Zigmund_Neufeld_Tape1</td>\n",
       "    </tr>\n",
       "    <tr>\n",
       "      <th>193</th>\n",
       "      <td>.</td>\n",
       "      <td>Zigmund_Neufeld_Tape2.wav</td>\n",
       "      <td>Zigmund_Neufeld_Tape2</td>\n",
       "    </tr>\n",
       "  </tbody>\n",
       "</table>\n",
       "<p>194 rows × 3 columns</p>\n",
       "</div>"
      ],
      "text/plain": [
       "    relpath                        fname                 barename\n",
       "0         .     Abraham_Slucki_Tape2.wav     Abraham_Slucki_Tape2\n",
       "1         .     Adalbert_Fried_Tape1.wav     Adalbert_Fried_Tape1\n",
       "2         .     Adalbert_Fried_Tape2.wav     Adalbert_Fried_Tape2\n",
       "3         .     Adalbert_Fried_Tape3.wav     Adalbert_Fried_Tape3\n",
       "4         .  Aizik_Dimantstein_Tape1.wav  Aizik_Dimantstein_Tape1\n",
       "..      ...                          ...                      ...\n",
       "189       .    Wolf_Scheinberg_Tape2.wav    Wolf_Scheinberg_Tape2\n",
       "190       .  Yokheved_Ayberman_Tape1.wav  Yokheved_Ayberman_Tape1\n",
       "191       .  Yokheved_Ayberman_Tape2.wav  Yokheved_Ayberman_Tape2\n",
       "192       .    Zigmund_Neufeld_Tape1.wav    Zigmund_Neufeld_Tape1\n",
       "193       .    Zigmund_Neufeld_Tape2.wav    Zigmund_Neufeld_Tape2\n",
       "\n",
       "[194 rows x 3 columns]"
      ]
     },
     "execution_count": 26,
     "metadata": {},
     "output_type": "execute_result"
    }
   ],
   "source": [
    "todoright = utils.compare_dirs(\n",
    "    dir1=wavright, ext1='.wav',\n",
    "    dir2=rttmright, ext2='.rttm'\n",
    ")\n",
    "todoright"
   ]
  },
  {
   "cell_type": "code",
   "execution_count": null,
   "metadata": {},
   "outputs": [],
   "source": [
    "utils.diarize_df(todoright, pipeline, num_spkr, wavright, rttmright)"
   ]
  }
 ],
 "metadata": {
  "kernelspec": {
   "display_name": "diarize",
   "language": "python",
   "name": "diarize"
  },
  "language_info": {
   "codemirror_mode": {
    "name": "ipython",
    "version": 3
   },
   "file_extension": ".py",
   "mimetype": "text/x-python",
   "name": "python",
   "nbconvert_exporter": "python",
   "pygments_lexer": "ipython3",
   "version": "3.8.0"
  },
  "varInspector": {
   "cols": {
    "lenName": 16,
    "lenType": 16,
    "lenVar": 40
   },
   "kernels_config": {
    "python": {
     "delete_cmd_postfix": "",
     "delete_cmd_prefix": "del ",
     "library": "var_list.py",
     "varRefreshCmd": "print(var_dic_list())"
    },
    "r": {
     "delete_cmd_postfix": ") ",
     "delete_cmd_prefix": "rm(",
     "library": "var_list.r",
     "varRefreshCmd": "cat(var_dic_list()) "
    }
   },
   "types_to_exclude": [
    "module",
    "function",
    "builtin_function_or_method",
    "instance",
    "_Feature"
   ],
   "window_display": false
  }
 },
 "nbformat": 4,
 "nbformat_minor": 2
}
