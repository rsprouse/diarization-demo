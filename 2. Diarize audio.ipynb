{
 "cells": [
  {
   "cell_type": "markdown",
   "metadata": {},
   "source": [
    "# Diarize single-channel audio files\n",
    "\n",
    "This notebook instantiates a `pyannote-audio` pipeline and diarizes the single-channel left|right audio files. The diarization results are stored in `.rttm` files."
   ]
  },
  {
   "cell_type": "code",
   "execution_count": 1,
   "metadata": {},
   "outputs": [],
   "source": [
    "from pathlib import Path\n",
    "import diarize_utils as utils\n",
    "from pyannote.audio import Pipeline"
   ]
  },
  {
   "cell_type": "markdown",
   "metadata": {},
   "source": [
    "## Define the project\n",
    "\n",
    "The source audio files are stored in a subdirectories named `audio/left` and `audio/right` in the project root. The left and right `.rttm` outputs will be stashed in `left` and `right` subdirectories of `diarized/rttm`."
   ]
  },
  {
   "cell_type": "code",
   "execution_count": 2,
   "metadata": {},
   "outputs": [],
   "source": [
    "projroot = Path('/global/home/groups/fc_phonlab/spkrcorpus')\n",
    "outputext = '.TextGrid' # Desired output type: '.eaf', '.TextGrid', '.rttm', '.lab'\n",
    "wavleft = projroot / 'audio' / 'left'\n",
    "wavright = projroot / 'audio' / 'right'\n",
    "outleft = projroot / 'diarized' / outputext.replace('.', '') / 'left'\n",
    "outright = projroot / 'diarized' / outputext.replace('.', '') / 'right'"
   ]
  },
  {
   "cell_type": "markdown",
   "metadata": {},
   "source": [
    "## Instantiate the pipeline\n",
    "\n",
    "TODO: more on auth tokens\n",
    "TODO: more on setting params."
   ]
  },
  {
   "cell_type": "code",
   "execution_count": 3,
   "metadata": {},
   "outputs": [],
   "source": [
    "# Store the token as the first line of `tokenfile`. This file should not be\n",
    "# readable by other users on the system and should not be added to a git\n",
    "# repository.\n",
    "tokenfile = '/global/home/users/rsprouse/pyannote-auth-token'\n",
    "with open(tokenfile, 'r') as tf:\n",
    "    auth_token = tf.readline().strip()"
   ]
  },
  {
   "cell_type": "code",
   "execution_count": 4,
   "metadata": {},
   "outputs": [
    {
     "data": {
      "text/plain": [
       "<pyannote.audio.pipelines.speaker_diarization.SpeakerDiarization at 0x2b7edc28e9d0>"
      ]
     },
     "execution_count": 4,
     "metadata": {},
     "output_type": "execute_result"
    }
   ],
   "source": [
    "pipeline = Pipeline.from_pretrained(\n",
    "    \"pyannote/speaker-diarization\",\n",
    "    use_auth_token=auth_token\n",
    ")\n",
    "parameters = {\n",
    "    \"segmentation\": {\n",
    "        \"min_duration_off\": 0.3,\n",
    "    },\n",
    "}\n",
    "\n",
    "pipeline.instantiate(parameters)"
   ]
  },
  {
   "cell_type": "markdown",
   "metadata": {},
   "source": [
    "## Diarize the left channels\n",
    "\n",
    "The `compare_dirs` function finds `left` `.wav` files that do not have a corresponding output file. The `ext1` and `ext2` values ensure that `compare_dirs` only looks for `.wav` and `.rttm` files in their corresponding directories."
   ]
  },
  {
   "cell_type": "code",
   "execution_count": 5,
   "metadata": {},
   "outputs": [
    {
     "data": {
      "text/html": [
       "<div>\n",
       "<style scoped>\n",
       "    .dataframe tbody tr th:only-of-type {\n",
       "        vertical-align: middle;\n",
       "    }\n",
       "\n",
       "    .dataframe tbody tr th {\n",
       "        vertical-align: top;\n",
       "    }\n",
       "\n",
       "    .dataframe thead th {\n",
       "        text-align: right;\n",
       "    }\n",
       "</style>\n",
       "<table border=\"1\" class=\"dataframe\">\n",
       "  <thead>\n",
       "    <tr style=\"text-align: right;\">\n",
       "      <th></th>\n",
       "      <th>relpath</th>\n",
       "      <th>fname</th>\n",
       "      <th>barename</th>\n",
       "    </tr>\n",
       "  </thead>\n",
       "  <tbody>\n",
       "    <tr>\n",
       "      <th>0</th>\n",
       "      <td>speaker_1</td>\n",
       "      <td>interview_a.wav</td>\n",
       "      <td>interview_a</td>\n",
       "    </tr>\n",
       "    <tr>\n",
       "      <th>1</th>\n",
       "      <td>speaker_1</td>\n",
       "      <td>interview_b.wav</td>\n",
       "      <td>interview_b</td>\n",
       "    </tr>\n",
       "    <tr>\n",
       "      <th>2</th>\n",
       "      <td>speaker_2</td>\n",
       "      <td>interview_a.wav</td>\n",
       "      <td>interview_a</td>\n",
       "    </tr>\n",
       "    <tr>\n",
       "      <th>3</th>\n",
       "      <td>speaker_2</td>\n",
       "      <td>interview_b.wav</td>\n",
       "      <td>interview_b</td>\n",
       "    </tr>\n",
       "  </tbody>\n",
       "</table>\n",
       "</div>"
      ],
      "text/plain": [
       "     relpath            fname     barename\n",
       "0  speaker_1  interview_a.wav  interview_a\n",
       "1  speaker_1  interview_b.wav  interview_b\n",
       "2  speaker_2  interview_a.wav  interview_a\n",
       "3  speaker_2  interview_b.wav  interview_b"
      ]
     },
     "execution_count": 5,
     "metadata": {},
     "output_type": "execute_result"
    }
   ],
   "source": [
    "todoleft = utils.compare_dirs(\n",
    "    dir1=wavleft, ext1='.wav',\n",
    "    dir2=outleft, ext2=outputext\n",
    ")\n",
    "todoleft"
   ]
  },
  {
   "cell_type": "markdown",
   "metadata": {},
   "source": [
    "`todoleft` is a dataframe in which the rows represent input audio files that require processing of the left channel.\n",
    "\n",
    "The `diarize_df` function iterates over the rows of `todoleft` and uses the pipeline to diarize the input audio file and produce an `.rttm`."
   ]
  },
  {
   "cell_type": "code",
   "execution_count": 6,
   "metadata": {},
   "outputs": [
    {
     "name": "stderr",
     "output_type": "stream",
     "text": [
      "[W NNPACK.cpp:51] Could not initialize NNPACK! Reason: Unsupported hardware.\n"
     ]
    }
   ],
   "source": [
    "verbose = True\n",
    "for row in todoleft.itertuples():\n",
    "    wavfile = wavleft / row.relpath / row.fname\n",
    "    outfile = outleft / row.relpath / f'{row.barename}{outputext}'\n",
    "    if verbose:\n",
    "        print(f'diarize: {outfile}')\n",
    "    utils.diarize(wavfile, pipeline, 2, outfile)"
   ]
  },
  {
   "cell_type": "code",
   "execution_count": 13,
   "metadata": {},
   "outputs": [
    {
     "data": {
      "text/plain": [
       "PosixPath('/global/home/groups/fc_phonlab/spkrcorpus/diarized/TextGrid/left/speaker_2')"
      ]
     },
     "execution_count": 13,
     "metadata": {},
     "output_type": "execute_result"
    }
   ],
   "source": [
    "outfile.parent"
   ]
  },
  {
   "cell_type": "code",
   "execution_count": null,
   "metadata": {},
   "outputs": [],
   "source": [
    "utils.diarize_df(todoleft, pipeline, num_spkr, wavleft, rttmleft)"
   ]
  },
  {
   "cell_type": "markdown",
   "metadata": {},
   "source": [
    "## Diarize the right channels"
   ]
  },
  {
   "cell_type": "code",
   "execution_count": 10,
   "metadata": {},
   "outputs": [
    {
     "data": {
      "text/html": [
       "<div>\n",
       "<style scoped>\n",
       "    .dataframe tbody tr th:only-of-type {\n",
       "        vertical-align: middle;\n",
       "    }\n",
       "\n",
       "    .dataframe tbody tr th {\n",
       "        vertical-align: top;\n",
       "    }\n",
       "\n",
       "    .dataframe thead th {\n",
       "        text-align: right;\n",
       "    }\n",
       "</style>\n",
       "<table border=\"1\" class=\"dataframe\">\n",
       "  <thead>\n",
       "    <tr style=\"text-align: right;\">\n",
       "      <th></th>\n",
       "      <th>relpath</th>\n",
       "      <th>fname</th>\n",
       "      <th>barename</th>\n",
       "    </tr>\n",
       "  </thead>\n",
       "  <tbody>\n",
       "    <tr>\n",
       "      <th>0</th>\n",
       "      <td>speaker_1</td>\n",
       "      <td>interview_a.wav</td>\n",
       "      <td>interview_a</td>\n",
       "    </tr>\n",
       "    <tr>\n",
       "      <th>1</th>\n",
       "      <td>speaker_1</td>\n",
       "      <td>interview_b.wav</td>\n",
       "      <td>interview_b</td>\n",
       "    </tr>\n",
       "    <tr>\n",
       "      <th>2</th>\n",
       "      <td>speaker_2</td>\n",
       "      <td>interview_a.wav</td>\n",
       "      <td>interview_a</td>\n",
       "    </tr>\n",
       "    <tr>\n",
       "      <th>3</th>\n",
       "      <td>speaker_2</td>\n",
       "      <td>interview_b.wav</td>\n",
       "      <td>interview_b</td>\n",
       "    </tr>\n",
       "  </tbody>\n",
       "</table>\n",
       "</div>"
      ],
      "text/plain": [
       "     relpath            fname     barename\n",
       "0  speaker_1  interview_a.wav  interview_a\n",
       "1  speaker_1  interview_b.wav  interview_b\n",
       "2  speaker_2  interview_a.wav  interview_a\n",
       "3  speaker_2  interview_b.wav  interview_b"
      ]
     },
     "execution_count": 10,
     "metadata": {},
     "output_type": "execute_result"
    }
   ],
   "source": [
    "todoright = utils.compare_dirs(\n",
    "    dir1=wavright, ext1='.wav',\n",
    "    dir2=outright, ext2=outputext\n",
    ")\n",
    "todoright"
   ]
  },
  {
   "cell_type": "code",
   "execution_count": null,
   "metadata": {},
   "outputs": [],
   "source": [
    "for row in todoright.itertuples():\n",
    "    wavfile = wavright / row.relpath / row.fname\n",
    "    outfile = outright / row.relpath / f'{row.barename}{outputext}'\n",
    "    utils.diarize(wavfile, pipeline, 2, outfile)"
   ]
  },
  {
   "cell_type": "code",
   "execution_count": null,
   "metadata": {},
   "outputs": [],
   "source": [
    "utils.diarize_df(todoright, pipeline, num_spkr, wavright, rttmright)"
   ]
  }
 ],
 "metadata": {
  "kernelspec": {
   "display_name": "diarize",
   "language": "python",
   "name": "diarize"
  },
  "language_info": {
   "codemirror_mode": {
    "name": "ipython",
    "version": 3
   },
   "file_extension": ".py",
   "mimetype": "text/x-python",
   "name": "python",
   "nbconvert_exporter": "python",
   "pygments_lexer": "ipython3",
   "version": "3.8.0"
  },
  "varInspector": {
   "cols": {
    "lenName": 16,
    "lenType": 16,
    "lenVar": 40
   },
   "kernels_config": {
    "python": {
     "delete_cmd_postfix": "",
     "delete_cmd_prefix": "del ",
     "library": "var_list.py",
     "varRefreshCmd": "print(var_dic_list())"
    },
    "r": {
     "delete_cmd_postfix": ") ",
     "delete_cmd_prefix": "rm(",
     "library": "var_list.r",
     "varRefreshCmd": "cat(var_dic_list()) "
    }
   },
   "types_to_exclude": [
    "module",
    "function",
    "builtin_function_or_method",
    "instance",
    "_Feature"
   ],
   "window_display": false
  }
 },
 "nbformat": 4,
 "nbformat_minor": 2
}
