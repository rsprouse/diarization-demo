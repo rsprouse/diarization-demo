{
 "cells": [
  {
   "cell_type": "markdown",
   "metadata": {},
   "source": []
  },
  {
   "cell_type": "code",
   "execution_count": 4,
   "metadata": {},
   "outputs": [],
   "source": [
    "from pathlib import Path\n",
    "import diarize_utils as utils\n",
    "from phonlab.utils import dir2df"
   ]
  },
  {
   "cell_type": "markdown",
   "metadata": {},
   "source": [
    "## Define project\n",
    "\n"
   ]
  },
  {
   "cell_type": "code",
   "execution_count": 5,
   "metadata": {},
   "outputs": [],
   "source": [
    "projroot = Path('/global/scratch/users/rsprouse/yidcorp/')\n",
    "buffer_ms = 250\n",
    "rttmleft = projroot / 'diarized' / 'rttm' / 'left'\n",
    "rttmright = projroot / 'diarized' / 'rttm' / 'right'"
   ]
  },
  {
   "cell_type": "markdown",
   "metadata": {},
   "source": [
    "## Find existing .rttm files and merge left/right channels"
   ]
  },
  {
   "cell_type": "code",
   "execution_count": 6,
   "metadata": {},
   "outputs": [],
   "source": [
    "rttmdir = projroot / 'diarized' / 'rttm'\n",
    "rdfleft = dir2df(rttmleft, fnpat='\\.rttm$', addcols=['barename'])\n",
    "rdfright = dir2df(rttmright, fnpat='\\.rttm$', addcols=['barename'])"
   ]
  },
  {
   "cell_type": "code",
   "execution_count": 7,
   "metadata": {},
   "outputs": [
    {
     "data": {
      "text/html": [
       "<div>\n",
       "<style scoped>\n",
       "    .dataframe tbody tr th:only-of-type {\n",
       "        vertical-align: middle;\n",
       "    }\n",
       "\n",
       "    .dataframe tbody tr th {\n",
       "        vertical-align: top;\n",
       "    }\n",
       "\n",
       "    .dataframe thead th {\n",
       "        text-align: right;\n",
       "    }\n",
       "</style>\n",
       "<table border=\"1\" class=\"dataframe\">\n",
       "  <thead>\n",
       "    <tr style=\"text-align: right;\">\n",
       "      <th></th>\n",
       "      <th>relpath_left</th>\n",
       "      <th>fname</th>\n",
       "      <th>barename</th>\n",
       "      <th>relpath_right</th>\n",
       "    </tr>\n",
       "  </thead>\n",
       "  <tbody>\n",
       "    <tr>\n",
       "      <th>0</th>\n",
       "      <td>.</td>\n",
       "      <td>Abraham_Bursztajn_Tape1.rttm</td>\n",
       "      <td>Abraham_Bursztajn_Tape1</td>\n",
       "      <td>.</td>\n",
       "    </tr>\n",
       "    <tr>\n",
       "      <th>1</th>\n",
       "      <td>.</td>\n",
       "      <td>Abraham_Bursztajn_Tape2.rttm</td>\n",
       "      <td>Abraham_Bursztajn_Tape2</td>\n",
       "      <td>.</td>\n",
       "    </tr>\n",
       "    <tr>\n",
       "      <th>2</th>\n",
       "      <td>.</td>\n",
       "      <td>Abraham_Bursztajn_Tape3.rttm</td>\n",
       "      <td>Abraham_Bursztajn_Tape3</td>\n",
       "      <td>.</td>\n",
       "    </tr>\n",
       "    <tr>\n",
       "      <th>3</th>\n",
       "      <td>.</td>\n",
       "      <td>Abraham_Bursztajn_Tape4.rttm</td>\n",
       "      <td>Abraham_Bursztajn_Tape4</td>\n",
       "      <td>.</td>\n",
       "    </tr>\n",
       "    <tr>\n",
       "      <th>4</th>\n",
       "      <td>.</td>\n",
       "      <td>Abraham_Bursztajn_Tape5.rttm</td>\n",
       "      <td>Abraham_Bursztajn_Tape5</td>\n",
       "      <td>.</td>\n",
       "    </tr>\n",
       "    <tr>\n",
       "      <th>...</th>\n",
       "      <td>...</td>\n",
       "      <td>...</td>\n",
       "      <td>...</td>\n",
       "      <td>...</td>\n",
       "    </tr>\n",
       "    <tr>\n",
       "      <th>935</th>\n",
       "      <td>.</td>\n",
       "      <td>Zwi_Miller_Tape1.rttm</td>\n",
       "      <td>Zwi_Miller_Tape1</td>\n",
       "      <td>.</td>\n",
       "    </tr>\n",
       "    <tr>\n",
       "      <th>936</th>\n",
       "      <td>.</td>\n",
       "      <td>Zwi_Miller_Tape2.rttm</td>\n",
       "      <td>Zwi_Miller_Tape2</td>\n",
       "      <td>.</td>\n",
       "    </tr>\n",
       "    <tr>\n",
       "      <th>937</th>\n",
       "      <td>.</td>\n",
       "      <td>Zwi_Miller_Tape3.rttm</td>\n",
       "      <td>Zwi_Miller_Tape3</td>\n",
       "      <td>.</td>\n",
       "    </tr>\n",
       "    <tr>\n",
       "      <th>938</th>\n",
       "      <td>.</td>\n",
       "      <td>Zwi_Miller_Tape4.rttm</td>\n",
       "      <td>Zwi_Miller_Tape4</td>\n",
       "      <td>.</td>\n",
       "    </tr>\n",
       "    <tr>\n",
       "      <th>939</th>\n",
       "      <td>.</td>\n",
       "      <td>Zwi_Miller_Tape5.rttm</td>\n",
       "      <td>Zwi_Miller_Tape5</td>\n",
       "      <td>.</td>\n",
       "    </tr>\n",
       "  </tbody>\n",
       "</table>\n",
       "<p>940 rows × 4 columns</p>\n",
       "</div>"
      ],
      "text/plain": [
       "    relpath_left                         fname                 barename  \\\n",
       "0              .  Abraham_Bursztajn_Tape1.rttm  Abraham_Bursztajn_Tape1   \n",
       "1              .  Abraham_Bursztajn_Tape2.rttm  Abraham_Bursztajn_Tape2   \n",
       "2              .  Abraham_Bursztajn_Tape3.rttm  Abraham_Bursztajn_Tape3   \n",
       "3              .  Abraham_Bursztajn_Tape4.rttm  Abraham_Bursztajn_Tape4   \n",
       "4              .  Abraham_Bursztajn_Tape5.rttm  Abraham_Bursztajn_Tape5   \n",
       "..           ...                           ...                      ...   \n",
       "935            .         Zwi_Miller_Tape1.rttm         Zwi_Miller_Tape1   \n",
       "936            .         Zwi_Miller_Tape2.rttm         Zwi_Miller_Tape2   \n",
       "937            .         Zwi_Miller_Tape3.rttm         Zwi_Miller_Tape3   \n",
       "938            .         Zwi_Miller_Tape4.rttm         Zwi_Miller_Tape4   \n",
       "939            .         Zwi_Miller_Tape5.rttm         Zwi_Miller_Tape5   \n",
       "\n",
       "    relpath_right  \n",
       "0               .  \n",
       "1               .  \n",
       "2               .  \n",
       "3               .  \n",
       "4               .  \n",
       "..            ...  \n",
       "935             .  \n",
       "936             .  \n",
       "937             .  \n",
       "938             .  \n",
       "939             .  \n",
       "\n",
       "[940 rows x 4 columns]"
      ]
     },
     "execution_count": 7,
     "metadata": {},
     "output_type": "execute_result"
    }
   ],
   "source": [
    "rdf = rdfleft.merge(\n",
    "    rdfright,\n",
    "    how='outer',\n",
    "    on=('fname', 'barename'),\n",
    "    suffixes=('_left', '_right')\n",
    ")\n",
    "rdf"
   ]
  },
  {
   "cell_type": "markdown",
   "metadata": {},
   "source": [
    "## Find existing .eaf files and merge with .rttm files to discover which need processing"
   ]
  },
  {
   "cell_type": "code",
   "execution_count": 11,
   "metadata": {},
   "outputs": [
    {
     "data": {
      "text/html": [
       "<div>\n",
       "<style scoped>\n",
       "    .dataframe tbody tr th:only-of-type {\n",
       "        vertical-align: middle;\n",
       "    }\n",
       "\n",
       "    .dataframe tbody tr th {\n",
       "        vertical-align: top;\n",
       "    }\n",
       "\n",
       "    .dataframe thead th {\n",
       "        text-align: right;\n",
       "    }\n",
       "</style>\n",
       "<table border=\"1\" class=\"dataframe\">\n",
       "  <thead>\n",
       "    <tr style=\"text-align: right;\">\n",
       "      <th></th>\n",
       "      <th>relpath</th>\n",
       "      <th>fname</th>\n",
       "      <th>barename</th>\n",
       "    </tr>\n",
       "  </thead>\n",
       "  <tbody>\n",
       "  </tbody>\n",
       "</table>\n",
       "</div>"
      ],
      "text/plain": [
       "Empty DataFrame\n",
       "Columns: [relpath, fname, barename]\n",
       "Index: []"
      ]
     },
     "execution_count": 11,
     "metadata": {},
     "output_type": "execute_result"
    }
   ],
   "source": [
    "eafdir = projroot / 'diarized' / 'eaf'\n",
    "todo = utils.compare_dirs(\n",
    "    dir1=rttmleft, ext1='.rttm',\n",
    "    dir2=eafdir, ext2='.eaf'\n",
    ")\n",
    "todo"
   ]
  },
  {
   "cell_type": "code",
   "execution_count": null,
   "metadata": {},
   "outputs": [],
   "source": [
    "todo_df = rdf.merge(\n",
    "    eafdf,\n",
    "    how='left',\n",
    "    on=('barename'),\n",
    "    suffixes=('_rttm', '_eaf')\n",
    ")\n",
    "todo_df = todo_df[todo_df['relpath'].isna()]\n",
    "#todo_df = todo_df[todo_df['barename'].str.startswith('Lola')]\n",
    "todo_df"
   ]
  },
  {
   "cell_type": "code",
   "execution_count": null,
   "metadata": {},
   "outputs": [],
   "source": [
    "rttms = None\n",
    "for row in todo_df.itertuples():\n",
    "    if row.Index % 50 == 0:\n",
    "        print(f'Working on row index {row.Index}.')\n",
    "    try:\n",
    "        rttms = {\n",
    "            'LEFT': rttmdir / row.relpath_left / row.fname_rttm,\n",
    "            'RIGHT': rttmdir / row.relpath_right / row.fname_rttm,\n",
    "        }\n",
    "    except TypeError:\n",
    "        print(f'ERROR: Skipping {row.fname_rttm}.')\n",
    "        continue\n",
    "    stereowav = projroot / 'audio' / 'stereo' / f'{row.barename}.wav'\n",
    "    data, rate = librosa.load(stereowav, sr=None, mono=False)\n",
    "    spkrchans = []\n",
    "    for chan_s, chan_i in (('LEFT', 0), ('RIGHT', 1)):\n",
    "        df = rttm2df(rttms[chan_s])\n",
    "        df['t1idx'] = (df['t1']/1000 * rate).astype(int)\n",
    "        df['t2idx'] = (df['t2']/1000 * rate).astype(int)\n",
    "        spkrchan = []\n",
    "        for spkr in df['spkr'].cat.categories.sort_values():\n",
    "            spkrdf = df[df['spkr'] == spkr]\n",
    "            spkrdur = spkrdf['dur'].sum()\n",
    "            uttidx = np.hstack([np.arange(r.t1idx, r.t2idx) for r in spkrdf.itertuples()])\n",
    "            spkravgmag = np.abs(data[chan_i, uttidx]).sum() / spkrdur\n",
    "            spkrchan = {'spkr': spkr, 'totdur': spkrdur, 'avgmag': spkravgmag, 'chan': chan_s}\n",
    "            spkrchans.append(spkrchan)\n",
    "    spkrdf = pd.DataFrame(spkrchans).sort_values(['totdur', 'avgmag'])\n",
    "    try:\n",
    "        assert(len(spkrdf) == 4)  # two channels, two speakers\n",
    "        interviewer = spkrdf[0:2]\n",
    "        survivor = spkrdf[2:4]\n",
    "        assert(np.all(interviewer['chan'].sort_values() == ['LEFT', 'RIGHT']))\n",
    "        assert(np.all(survivor['chan'].sort_values() == ['LEFT', 'RIGHT']))\n",
    "        spkrdf['tiername'] = ['Interviewer unlikely', 'Interviewer probable', 'Survivor unlikely', 'Survivor probable']\n",
    "        tiernames = spkrdf.set_index(['chan', 'spkr']).loc[:, 'tiername'].to_dict()\n",
    "    except AssertionError:\n",
    "        tiernames = {}\n",
    "    eaf = rttm2eaf(rttms, buffer_ms=buffer_ms, names=tiernames)\n",
    "    eaf.add_linked_file(f\"file:///{row.barename}.mp4\", relpath=f\"./{row.barename}.mp4\", mimetype=\"video/mp4\")\n",
    "    eaf.add_linked_file(f\"file:///wav/{row.barename}.wav\", relpath=f\"./{row.barename}.wav\", ex_from=f\"file:///video/{row.barename}.mp4\")\n",
    "    eaf.to_file(eafdir / f'{row.barename}.eaf')"
   ]
  }
 ],
 "metadata": {
  "kernelspec": {
   "display_name": "diarize",
   "language": "python",
   "name": "diarize"
  },
  "language_info": {
   "codemirror_mode": {
    "name": "ipython",
    "version": 3
   },
   "file_extension": ".py",
   "mimetype": "text/x-python",
   "name": "python",
   "nbconvert_exporter": "python",
   "pygments_lexer": "ipython3",
   "version": "3.8.0"
  },
  "varInspector": {
   "cols": {
    "lenName": 16,
    "lenType": 16,
    "lenVar": 40
   },
   "kernels_config": {
    "python": {
     "delete_cmd_postfix": "",
     "delete_cmd_prefix": "del ",
     "library": "var_list.py",
     "varRefreshCmd": "print(var_dic_list())"
    },
    "r": {
     "delete_cmd_postfix": ") ",
     "delete_cmd_prefix": "rm(",
     "library": "var_list.r",
     "varRefreshCmd": "cat(var_dic_list()) "
    }
   },
   "types_to_exclude": [
    "module",
    "function",
    "builtin_function_or_method",
    "instance",
    "_Feature"
   ],
   "window_display": false
  }
 },
 "nbformat": 4,
 "nbformat_minor": 2
}
